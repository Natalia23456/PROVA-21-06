{
 "cells": [
  {
   "cell_type": "code",
   "execution_count": null,
   "id": "6f532f41-b3ef-4e6f-80cd-46d7a6f12b10",
   "metadata": {},
   "outputs": [],
   "source": [
    "#NOME: NATÁLIA DOS SANTOS"
   ]
  },
  {
   "cell_type": "code",
   "execution_count": 1,
   "id": "6333fad8-3b3d-470c-b641-cb036b59325f",
   "metadata": {},
   "outputs": [],
   "source": [
    "# 1) BASE DE DADO UTILIZADA: FIES - DADOS ABERTOS - MEC"
   ]
  },
  {
   "cell_type": "code",
   "execution_count": 1,
   "id": "56483a11-97c1-4b87-9c9f-5192b64cd6b7",
   "metadata": {},
   "outputs": [
    {
     "name": "stdout",
     "output_type": "stream",
     "text": [
      "Defaulting to user installation because normal site-packages is not writeable\n",
      "Requirement already satisfied: pandas in c:\\programdata\\anaconda3\\lib\\site-packages (1.4.4)\n",
      "Requirement already satisfied: numpy>=1.18.5 in c:\\programdata\\anaconda3\\lib\\site-packages (from pandas) (1.21.5)\n",
      "Requirement already satisfied: python-dateutil>=2.8.1 in c:\\programdata\\anaconda3\\lib\\site-packages (from pandas) (2.8.2)\n",
      "Requirement already satisfied: pytz>=2020.1 in c:\\programdata\\anaconda3\\lib\\site-packages (from pandas) (2022.1)\n",
      "Requirement already satisfied: six>=1.5 in c:\\programdata\\anaconda3\\lib\\site-packages (from python-dateutil>=2.8.1->pandas) (1.16.0)\n"
     ]
    }
   ],
   "source": [
    "!pip install pandas"
   ]
  },
  {
   "cell_type": "code",
   "execution_count": 2,
   "id": "7bb45650-d094-492e-a63d-2c24c97de65a",
   "metadata": {},
   "outputs": [
    {
     "data": {
      "text/html": [
       "<div>\n",
       "<style scoped>\n",
       "    .dataframe tbody tr th:only-of-type {\n",
       "        vertical-align: middle;\n",
       "    }\n",
       "\n",
       "    .dataframe tbody tr th {\n",
       "        vertical-align: top;\n",
       "    }\n",
       "\n",
       "    .dataframe thead th {\n",
       "        text-align: right;\n",
       "    }\n",
       "</style>\n",
       "<table border=\"1\" class=\"dataframe\">\n",
       "  <thead>\n",
       "    <tr style=\"text-align: right;\">\n",
       "      <th></th>\n",
       "      <th>Ano do processo seletivo</th>\n",
       "      <th>Semestre do processo seletivo</th>\n",
       "      <th>ID do estudante</th>\n",
       "      <th>Sexo</th>\n",
       "      <th>Data de Nascimento</th>\n",
       "      <th>UF de residência</th>\n",
       "      <th>Municipio de residência</th>\n",
       "      <th>Etnia/Cor</th>\n",
       "      <th>Pessoa com deficiência?</th>\n",
       "      <th>Tipo de escola no ensino médio</th>\n",
       "      <th>...</th>\n",
       "      <th>Ano do Enem</th>\n",
       "      <th>Redação</th>\n",
       "      <th>Matemática e suas Tecnologias</th>\n",
       "      <th>Linguagens, Códigos e suas Tec</th>\n",
       "      <th>Ciências Natureza e suas Tec</th>\n",
       "      <th>Ciências Humanas e suas Tec</th>\n",
       "      <th>Situação Inscrição Fies</th>\n",
       "      <th>Percentual de financiamento</th>\n",
       "      <th>Semestre do financiamento</th>\n",
       "      <th>Qtde semestre financiado</th>\n",
       "    </tr>\n",
       "  </thead>\n",
       "  <tbody>\n",
       "    <tr>\n",
       "      <th>0</th>\n",
       "      <td>2021</td>\n",
       "      <td>1</td>\n",
       "      <td>205517284</td>\n",
       "      <td>M</td>\n",
       "      <td>22/12/88</td>\n",
       "      <td>PR</td>\n",
       "      <td>CURITIBA</td>\n",
       "      <td>PARDA</td>\n",
       "      <td>SIM</td>\n",
       "      <td>SIM</td>\n",
       "      <td>...</td>\n",
       "      <td>2017</td>\n",
       "      <td>460</td>\n",
       "      <td>363,5</td>\n",
       "      <td>489,8</td>\n",
       "      <td>507</td>\n",
       "      <td>430,4</td>\n",
       "      <td>PARTICIPACAO CANCELADA PELO CANDIDATO</td>\n",
       "      <td>NaN</td>\n",
       "      <td></td>\n",
       "      <td>NaN</td>\n",
       "    </tr>\n",
       "    <tr>\n",
       "      <th>1</th>\n",
       "      <td>2021</td>\n",
       "      <td>1</td>\n",
       "      <td>205507810</td>\n",
       "      <td>M</td>\n",
       "      <td>10/08/01</td>\n",
       "      <td>PR</td>\n",
       "      <td>CURITIBA</td>\n",
       "      <td>BRANCA</td>\n",
       "      <td>NÃO</td>\n",
       "      <td>NÃO</td>\n",
       "      <td>...</td>\n",
       "      <td>2019</td>\n",
       "      <td>620</td>\n",
       "      <td>636,8</td>\n",
       "      <td>538,9</td>\n",
       "      <td>519,1</td>\n",
       "      <td>591,2</td>\n",
       "      <td>CONTRATADA</td>\n",
       "      <td>54,26</td>\n",
       "      <td>1º</td>\n",
       "      <td>8.0</td>\n",
       "    </tr>\n",
       "    <tr>\n",
       "      <th>2</th>\n",
       "      <td>2021</td>\n",
       "      <td>1</td>\n",
       "      <td>205486536</td>\n",
       "      <td>M</td>\n",
       "      <td>18/03/02</td>\n",
       "      <td>PR</td>\n",
       "      <td>CURITIBA</td>\n",
       "      <td>BRANCA</td>\n",
       "      <td>NÃO</td>\n",
       "      <td>SIM</td>\n",
       "      <td>...</td>\n",
       "      <td>2020</td>\n",
       "      <td>640</td>\n",
       "      <td>681</td>\n",
       "      <td>585,2</td>\n",
       "      <td>522,8</td>\n",
       "      <td>553</td>\n",
       "      <td>PARTICIPACAO CANCELADA PELO CANDIDATO</td>\n",
       "      <td>NaN</td>\n",
       "      <td></td>\n",
       "      <td>NaN</td>\n",
       "    </tr>\n",
       "    <tr>\n",
       "      <th>3</th>\n",
       "      <td>2021</td>\n",
       "      <td>1</td>\n",
       "      <td>205519487</td>\n",
       "      <td>F</td>\n",
       "      <td>21/04/95</td>\n",
       "      <td>AM</td>\n",
       "      <td>PARINTINS</td>\n",
       "      <td>PARDA</td>\n",
       "      <td>NÃO</td>\n",
       "      <td>SIM</td>\n",
       "      <td>...</td>\n",
       "      <td>2012</td>\n",
       "      <td>820</td>\n",
       "      <td>687,5</td>\n",
       "      <td>605,6</td>\n",
       "      <td>539,1</td>\n",
       "      <td>594,9</td>\n",
       "      <td>NÃO CONTRATADO</td>\n",
       "      <td>NaN</td>\n",
       "      <td></td>\n",
       "      <td>NaN</td>\n",
       "    </tr>\n",
       "    <tr>\n",
       "      <th>4</th>\n",
       "      <td>2021</td>\n",
       "      <td>1</td>\n",
       "      <td>205519487</td>\n",
       "      <td>F</td>\n",
       "      <td>21/04/95</td>\n",
       "      <td>AM</td>\n",
       "      <td>PARINTINS</td>\n",
       "      <td>PARDA</td>\n",
       "      <td>NÃO</td>\n",
       "      <td>SIM</td>\n",
       "      <td>...</td>\n",
       "      <td>2012</td>\n",
       "      <td>820</td>\n",
       "      <td>687,5</td>\n",
       "      <td>605,6</td>\n",
       "      <td>539,1</td>\n",
       "      <td>594,9</td>\n",
       "      <td>NÃO CONTRATADO</td>\n",
       "      <td>NaN</td>\n",
       "      <td></td>\n",
       "      <td>NaN</td>\n",
       "    </tr>\n",
       "  </tbody>\n",
       "</table>\n",
       "<p>5 rows × 57 columns</p>\n",
       "</div>"
      ],
      "text/plain": [
       "   Ano do processo seletivo  Semestre do processo seletivo  ID do estudante  \\\n",
       "0                      2021                              1        205517284   \n",
       "1                      2021                              1        205507810   \n",
       "2                      2021                              1        205486536   \n",
       "3                      2021                              1        205519487   \n",
       "4                      2021                              1        205519487   \n",
       "\n",
       "  Sexo Data de Nascimento UF de residência Municipio de residência Etnia/Cor  \\\n",
       "0    M           22/12/88               PR                CURITIBA     PARDA   \n",
       "1    M           10/08/01               PR                CURITIBA    BRANCA   \n",
       "2    M           18/03/02               PR                CURITIBA    BRANCA   \n",
       "3    F           21/04/95               AM               PARINTINS     PARDA   \n",
       "4    F           21/04/95               AM               PARINTINS     PARDA   \n",
       "\n",
       "  Pessoa com deficiência? Tipo de escola no ensino médio  ...  Ano do Enem  \\\n",
       "0                     SIM                            SIM  ...         2017   \n",
       "1                     NÃO                            NÃO  ...         2019   \n",
       "2                     NÃO                            SIM  ...         2020   \n",
       "3                     NÃO                            SIM  ...         2012   \n",
       "4                     NÃO                            SIM  ...         2012   \n",
       "\n",
       "  Redação Matemática e suas Tecnologias  Linguagens, Códigos e suas Tec  \\\n",
       "0     460                         363,5                           489,8   \n",
       "1     620                         636,8                           538,9   \n",
       "2     640                           681                           585,2   \n",
       "3     820                         687,5                           605,6   \n",
       "4     820                         687,5                           605,6   \n",
       "\n",
       "  Ciências Natureza e suas Tec Ciências Humanas e suas Tec  \\\n",
       "0                          507                       430,4   \n",
       "1                        519,1                       591,2   \n",
       "2                        522,8                         553   \n",
       "3                        539,1                       594,9   \n",
       "4                        539,1                       594,9   \n",
       "\n",
       "                 Situação Inscrição Fies Percentual de financiamento  \\\n",
       "0  PARTICIPACAO CANCELADA PELO CANDIDATO                         NaN   \n",
       "1                             CONTRATADA                       54,26   \n",
       "2  PARTICIPACAO CANCELADA PELO CANDIDATO                         NaN   \n",
       "3                         NÃO CONTRATADO                         NaN   \n",
       "4                         NÃO CONTRATADO                         NaN   \n",
       "\n",
       "   Semestre do financiamento Qtde semestre financiado  \n",
       "0                                                 NaN  \n",
       "1                         1º                      8.0  \n",
       "2                                                 NaN  \n",
       "3                                                 NaN  \n",
       "4                                                 NaN  \n",
       "\n",
       "[5 rows x 57 columns]"
      ]
     },
     "execution_count": 2,
     "metadata": {},
     "output_type": "execute_result"
    }
   ],
   "source": [
    "import pandas as pd\n",
    "\n",
    "arquivo = \"relatorio_inscricao_dados_abertos_fies_12021.csv\"\n",
    "df = pd.read_csv(arquivo, sep=';', encoding= 'latin1', nrows=1000)\n",
    "\n",
    "df.head()"
   ]
  },
  {
   "cell_type": "code",
   "execution_count": 3,
   "id": "4b475fac-ebe0-46e7-b0ba-c8fca3091acd",
   "metadata": {},
   "outputs": [],
   "source": [
    "#2) criar função própria:"
   ]
  },
  {
   "cell_type": "code",
   "execution_count": 4,
   "id": "0e101d22-5e0f-4b25-9034-8395ac6c3897",
   "metadata": {},
   "outputs": [
    {
     "name": "stdout",
     "output_type": "stream",
     "text": [
      "A média de Redações é: 697.96\n"
     ]
    }
   ],
   "source": [
    "def calcular_media(df, Redação):\n",
    "    media = df[Redação].mean()\n",
    "    print(\"A média de Redações é: \" + str(media))\n",
    "    \n",
    "calcular_media(df, 'Redação')"
   ]
  },
  {
   "cell_type": "code",
   "execution_count": 5,
   "id": "60c6c161-3efe-4b0a-8a59-f72b49afa506",
   "metadata": {},
   "outputs": [],
   "source": [
    "#3) Estrutura de repetição e condição:"
   ]
  },
  {
   "cell_type": "code",
   "execution_count": 6,
   "id": "e3912665-5088-4b47-bc14-d6747916725f",
   "metadata": {},
   "outputs": [
    {
     "name": "stdout",
     "output_type": "stream",
     "text": [
      "A quantidade de notas de Redação acima de 300.0 foram: 994\n"
     ]
    }
   ],
   "source": [
    "valor_min = 300.00\n",
    "contador = 0\n",
    "\n",
    "for index, row in df.iterrows():\n",
    "    if row['Redação'] > valor_min:\n",
    "        contador += 1\n",
    "        \n",
    "print(f\"A quantidade de notas de Redação acima de\", valor_min, \"foram:\", contador)"
   ]
  },
  {
   "cell_type": "code",
   "execution_count": 7,
   "id": "454a1fe1-25d2-451f-9565-b108ce80ec76",
   "metadata": {},
   "outputs": [],
   "source": [
    "#4) Funções especiais:"
   ]
  },
  {
   "cell_type": "code",
   "execution_count": 17,
   "id": "c93e5be8-2a73-401a-a5a8-b80ae2fc61b6",
   "metadata": {},
   "outputs": [
    {
     "name": "stdout",
     "output_type": "stream",
     "text": [
      "A média das notas de Linguagens, Códigos e suas Tecnologias em 2021 foi: 567.92\n"
     ]
    }
   ],
   "source": [
    "from functools import reduce\n",
    "\n",
    "df['Linguagens, Códigos e suas Tec'] = pd.to_numeric(df['Linguagens, Códigos e suas Tec'], errors='coerce')\n",
    "df = df.dropna(subset=['Linguagens, Códigos e suas Tec'])\n",
    "\n",
    "media_notas = reduce(lambda x, y: x + y, df['Linguagens, Códigos e suas Tec']) / len(df['Linguagens, Códigos e suas Tec'])\n",
    "print(\"A média das notas de Linguagens, Códigos e suas Tecnologias em 2021 foi:\", round(media_notas, 2))"
   ]
  },
  {
   "cell_type": "code",
   "execution_count": null,
   "id": "b862d116-5764-4b31-9072-6509c240ce00",
   "metadata": {},
   "outputs": [],
   "source": [
    "#5) Resumo estatístico:"
   ]
  },
  {
   "cell_type": "code",
   "execution_count": 19,
   "id": "4128cc82-eb0a-4a6e-9304-d715bffc550d",
   "metadata": {},
   "outputs": [
    {
     "name": "stdout",
     "output_type": "stream",
     "text": [
      "A soma das notas de Matemática e suas Tecnologias é: 606505.9999999995\n",
      "A média das notas de Matemática e suas Tecnologias é: 606.5059999999995\n",
      "A mediana das notas de Matemática e suas Tecnologias é: 608.55\n"
     ]
    }
   ],
   "source": [
    "import pandas as pd\n",
    "import statistics\n",
    "\n",
    "arquivo = \"relatorio_inscricao_dados_abertos_fies_12021.csv\"\n",
    "df = pd.read_csv(arquivo, sep=';', encoding='latin1', nrows=1000)\n",
    "\n",
    "def nota_maior_igual_sete(row):\n",
    "    nota = float(row['Matemática e suas Tecnologias'].replace(',', '.')) if isinstance(row['Matemática e suas Tecnologias'], str) else row['Matemática e suas Tecnologias']\n",
    "    return nota >= 7\n",
    "\n",
    "df_filtrado = list(filter(nota_maior_igual_sete, df.to_dict('records')))\n",
    "\n",
    "notas = [float(row['Matemática e suas Tecnologias'].replace(',', '.')) for row in df_filtrado]\n",
    "\n",
    "soma_notas = sum(notas)\n",
    "media_notas = soma_notas / len(notas)\n",
    "mediana_notas = statistics.median(notas)\n",
    "\n",
    "print(\"A soma das notas de Matemática e suas Tecnologias é:\", soma_notas)\n",
    "print(\"A média das notas de Matemática e suas Tecnologias é:\", media_notas)\n",
    "print(\"A mediana das notas de Matemática e suas Tecnologias é:\", mediana_notas)\n"
   ]
  },
  {
   "cell_type": "code",
   "execution_count": null,
   "id": "4db99d6c-405e-492d-8402-5fbcd3079851",
   "metadata": {},
   "outputs": [],
   "source": [
    "#6) Publicação usando Quarto:"
   ]
  },
  {
   "cell_type": "code",
   "execution_count": 20,
   "id": "6e10c772-0745-4817-9aee-06b29bb85780",
   "metadata": {},
   "outputs": [
    {
     "ename": "ModuleNotFoundError",
     "evalue": "No module named 'quarto'",
     "output_type": "error",
     "traceback": [
      "\u001b[1;31m---------------------------------------------------------------------------\u001b[0m",
      "\u001b[1;31mModuleNotFoundError\u001b[0m                       Traceback (most recent call last)",
      "\u001b[1;32m~\\AppData\\Local\\Temp\\ipykernel_10224\\2881349.py\u001b[0m in \u001b[0;36m<module>\u001b[1;34m\u001b[0m\n\u001b[0;32m      1\u001b[0m \u001b[1;32mimport\u001b[0m \u001b[0mpandas\u001b[0m \u001b[1;32mas\u001b[0m \u001b[0mpd\u001b[0m\u001b[1;33m\u001b[0m\u001b[1;33m\u001b[0m\u001b[0m\n\u001b[0;32m      2\u001b[0m \u001b[1;32mimport\u001b[0m \u001b[0mstatistics\u001b[0m\u001b[1;33m\u001b[0m\u001b[1;33m\u001b[0m\u001b[0m\n\u001b[1;32m----> 3\u001b[1;33m \u001b[1;32mimport\u001b[0m \u001b[0mquarto\u001b[0m \u001b[1;32mas\u001b[0m \u001b[0mq\u001b[0m\u001b[1;33m\u001b[0m\u001b[1;33m\u001b[0m\u001b[0m\n\u001b[0m\u001b[0;32m      4\u001b[0m \u001b[1;33m\u001b[0m\u001b[0m\n\u001b[0;32m      5\u001b[0m \u001b[0marquivo\u001b[0m \u001b[1;33m=\u001b[0m \u001b[1;34m\"relatorio_inscricao_dados_abertos_fies_12021.csv\"\u001b[0m\u001b[1;33m\u001b[0m\u001b[1;33m\u001b[0m\u001b[0m\n",
      "\u001b[1;31mModuleNotFoundError\u001b[0m: No module named 'quarto'"
     ]
    }
   ],
   "source": []
  },
  {
   "cell_type": "code",
   "execution_count": null,
   "id": "dde703c0-ecf4-4334-9742-a6777d7a1357",
   "metadata": {},
   "outputs": [],
   "source": [
    "quarto render PROVA_PROGRAMAÇÃO.ipynb.ipynb --to html"
   ]
  }
 ],
 "metadata": {
  "kernelspec": {
   "display_name": "Python 3 (ipykernel)",
   "language": "python",
   "name": "python3"
  },
  "language_info": {
   "codemirror_mode": {
    "name": "ipython",
    "version": 3
   },
   "file_extension": ".py",
   "mimetype": "text/x-python",
   "name": "python",
   "nbconvert_exporter": "python",
   "pygments_lexer": "ipython3",
   "version": "3.10.9"
  }
 },
 "nbformat": 4,
 "nbformat_minor": 5
}
